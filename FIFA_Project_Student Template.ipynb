{
 "cells": [
  {
   "cell_type": "code",
   "execution_count": 1,
   "metadata": {},
   "outputs": [],
   "source": [
    "# import the modules\n",
    "import pandas as pd\n",
    "import numpy as np\n",
    "import matplotlib.pyplot as plt\n",
    "import seaborn as sns"
   ]
  },
  {
   "cell_type": "markdown",
   "metadata": {},
   "source": [
    "### Load the dataset\n",
    "\n",
    "- Load the train data and using all your knowledge of pandas try to explore the different statistical properties of the dataset."
   ]
  },
  {
   "cell_type": "code",
   "execution_count": 2,
   "metadata": {},
   "outputs": [],
   "source": [
    "# read the dataset and extract the features and target separately\n",
    "train = pd.read_csv('/home/praveen/projects/fifa/train.csv')\n",
    "test = pd.read_csv('/home/praveen/projects/fifa/test.csv')\n",
    "sample = pd.read_csv('/home/praveen/projects/fifa/sample_submission.csv')"
   ]
  },
  {
   "cell_type": "code",
   "execution_count": 3,
   "metadata": {},
   "outputs": [
    {
     "data": {
      "text/html": [
       "<div>\n",
       "<style scoped>\n",
       "    .dataframe tbody tr th:only-of-type {\n",
       "        vertical-align: middle;\n",
       "    }\n",
       "\n",
       "    .dataframe tbody tr th {\n",
       "        vertical-align: top;\n",
       "    }\n",
       "\n",
       "    .dataframe thead th {\n",
       "        text-align: right;\n",
       "    }\n",
       "</style>\n",
       "<table border=\"1\" class=\"dataframe\">\n",
       "  <thead>\n",
       "    <tr style=\"text-align: right;\">\n",
       "      <th></th>\n",
       "      <th>Id</th>\n",
       "      <th>Name</th>\n",
       "      <th>Age</th>\n",
       "      <th>Nationality</th>\n",
       "      <th>Overall</th>\n",
       "      <th>Potential</th>\n",
       "      <th>Club</th>\n",
       "      <th>Value (M)</th>\n",
       "      <th>Wage (M)</th>\n",
       "      <th>Position</th>\n",
       "    </tr>\n",
       "  </thead>\n",
       "  <tbody>\n",
       "    <tr>\n",
       "      <th>0</th>\n",
       "      <td>17221</td>\n",
       "      <td>F. Burdenski</td>\n",
       "      <td>25</td>\n",
       "      <td>Germany</td>\n",
       "      <td>54</td>\n",
       "      <td>58</td>\n",
       "      <td>Korona Kielce</td>\n",
       "      <td>0.07</td>\n",
       "      <td>0.001</td>\n",
       "      <td>CDM</td>\n",
       "    </tr>\n",
       "    <tr>\n",
       "      <th>1</th>\n",
       "      <td>11353</td>\n",
       "      <td>A. Deiola</td>\n",
       "      <td>21</td>\n",
       "      <td>Italy</td>\n",
       "      <td>64</td>\n",
       "      <td>73</td>\n",
       "      <td>Cagliari</td>\n",
       "      <td>0.70</td>\n",
       "      <td>0.010</td>\n",
       "      <td>CM</td>\n",
       "    </tr>\n",
       "    <tr>\n",
       "      <th>2</th>\n",
       "      <td>3402</td>\n",
       "      <td>T. Castagne</td>\n",
       "      <td>21</td>\n",
       "      <td>Belgium</td>\n",
       "      <td>72</td>\n",
       "      <td>79</td>\n",
       "      <td>Atalanta</td>\n",
       "      <td>3.70</td>\n",
       "      <td>0.013</td>\n",
       "      <td>RB</td>\n",
       "    </tr>\n",
       "    <tr>\n",
       "      <th>3</th>\n",
       "      <td>16071</td>\n",
       "      <td>D. Gorman</td>\n",
       "      <td>21</td>\n",
       "      <td>Northern Ireland</td>\n",
       "      <td>57</td>\n",
       "      <td>66</td>\n",
       "      <td>Stevenage</td>\n",
       "      <td>0.16</td>\n",
       "      <td>0.002</td>\n",
       "      <td>CM</td>\n",
       "    </tr>\n",
       "    <tr>\n",
       "      <th>4</th>\n",
       "      <td>12380</td>\n",
       "      <td>N. Molina Lucero</td>\n",
       "      <td>19</td>\n",
       "      <td>Argentina</td>\n",
       "      <td>63</td>\n",
       "      <td>75</td>\n",
       "      <td>Boca Juniors</td>\n",
       "      <td>0.55</td>\n",
       "      <td>0.002</td>\n",
       "      <td>LB</td>\n",
       "    </tr>\n",
       "  </tbody>\n",
       "</table>\n",
       "</div>"
      ],
      "text/plain": [
       "      Id              Name  Age       Nationality  Overall  Potential  \\\n",
       "0  17221      F. Burdenski   25           Germany       54         58   \n",
       "1  11353         A. Deiola   21             Italy       64         73   \n",
       "2   3402       T. Castagne   21           Belgium       72         79   \n",
       "3  16071         D. Gorman   21  Northern Ireland       57         66   \n",
       "4  12380  N. Molina Lucero   19         Argentina       63         75   \n",
       "\n",
       "            Club  Value (M)  Wage (M) Position  \n",
       "0  Korona Kielce       0.07     0.001      CDM  \n",
       "1       Cagliari       0.70     0.010       CM  \n",
       "2       Atalanta       3.70     0.013       RB  \n",
       "3      Stevenage       0.16     0.002       CM  \n",
       "4   Boca Juniors       0.55     0.002       LB  "
      ]
     },
     "execution_count": 3,
     "metadata": {},
     "output_type": "execute_result"
    }
   ],
   "source": [
    "train.head()"
   ]
  },
  {
   "cell_type": "code",
   "execution_count": 4,
   "metadata": {},
   "outputs": [
    {
     "data": {
      "text/html": [
       "<div>\n",
       "<style scoped>\n",
       "    .dataframe tbody tr th:only-of-type {\n",
       "        vertical-align: middle;\n",
       "    }\n",
       "\n",
       "    .dataframe tbody tr th {\n",
       "        vertical-align: top;\n",
       "    }\n",
       "\n",
       "    .dataframe thead th {\n",
       "        text-align: right;\n",
       "    }\n",
       "</style>\n",
       "<table border=\"1\" class=\"dataframe\">\n",
       "  <thead>\n",
       "    <tr style=\"text-align: right;\">\n",
       "      <th></th>\n",
       "      <th>Id</th>\n",
       "      <th>Name</th>\n",
       "      <th>Age</th>\n",
       "      <th>Nationality</th>\n",
       "      <th>Overall</th>\n",
       "      <th>Potential</th>\n",
       "      <th>Club</th>\n",
       "      <th>Wage (M)</th>\n",
       "      <th>Position</th>\n",
       "    </tr>\n",
       "  </thead>\n",
       "  <tbody>\n",
       "    <tr>\n",
       "      <th>0</th>\n",
       "      <td>280</td>\n",
       "      <td>C. Vela</td>\n",
       "      <td>28</td>\n",
       "      <td>Mexico</td>\n",
       "      <td>82</td>\n",
       "      <td>82</td>\n",
       "      <td>Real Sociedad</td>\n",
       "      <td>0.046</td>\n",
       "      <td>ST</td>\n",
       "    </tr>\n",
       "    <tr>\n",
       "      <th>1</th>\n",
       "      <td>569</td>\n",
       "      <td>J. Stones</td>\n",
       "      <td>23</td>\n",
       "      <td>England</td>\n",
       "      <td>79</td>\n",
       "      <td>85</td>\n",
       "      <td>Manchester City</td>\n",
       "      <td>0.105</td>\n",
       "      <td>CB</td>\n",
       "    </tr>\n",
       "    <tr>\n",
       "      <th>2</th>\n",
       "      <td>8731</td>\n",
       "      <td>V. Vermeij</td>\n",
       "      <td>22</td>\n",
       "      <td>Netherlands</td>\n",
       "      <td>67</td>\n",
       "      <td>74</td>\n",
       "      <td>Heracles Almelo</td>\n",
       "      <td>0.007</td>\n",
       "      <td>ST</td>\n",
       "    </tr>\n",
       "    <tr>\n",
       "      <th>3</th>\n",
       "      <td>10085</td>\n",
       "      <td>G. Omae</td>\n",
       "      <td>27</td>\n",
       "      <td>Japan</td>\n",
       "      <td>65</td>\n",
       "      <td>65</td>\n",
       "      <td>Omiya Ardija</td>\n",
       "      <td>0.002</td>\n",
       "      <td>CAM</td>\n",
       "    </tr>\n",
       "    <tr>\n",
       "      <th>4</th>\n",
       "      <td>9831</td>\n",
       "      <td>N. Miatke</td>\n",
       "      <td>27</td>\n",
       "      <td>Germany</td>\n",
       "      <td>66</td>\n",
       "      <td>67</td>\n",
       "      <td>FSV Zwickau</td>\n",
       "      <td>0.001</td>\n",
       "      <td>LM</td>\n",
       "    </tr>\n",
       "  </tbody>\n",
       "</table>\n",
       "</div>"
      ],
      "text/plain": [
       "      Id        Name  Age  Nationality  Overall  Potential             Club  \\\n",
       "0    280     C. Vela   28       Mexico       82         82    Real Sociedad   \n",
       "1    569   J. Stones   23      England       79         85  Manchester City   \n",
       "2   8731  V. Vermeij   22  Netherlands       67         74  Heracles Almelo   \n",
       "3  10085     G. Omae   27        Japan       65         65     Omiya Ardija   \n",
       "4   9831   N. Miatke   27      Germany       66         67      FSV Zwickau   \n",
       "\n",
       "   Wage (M) Position  \n",
       "0     0.046       ST  \n",
       "1     0.105       CB  \n",
       "2     0.007       ST  \n",
       "3     0.002      CAM  \n",
       "4     0.001       LM  "
      ]
     },
     "execution_count": 4,
     "metadata": {},
     "output_type": "execute_result"
    }
   ],
   "source": [
    "test.head()"
   ]
  },
  {
   "cell_type": "code",
   "execution_count": 5,
   "metadata": {},
   "outputs": [
    {
     "data": {
      "text/plain": [
       "((14384, 10), (3597, 9))"
      ]
     },
     "execution_count": 5,
     "metadata": {},
     "output_type": "execute_result"
    }
   ],
   "source": [
    "train.shape  ,  test.shape"
   ]
  },
  {
   "cell_type": "code",
   "execution_count": 6,
   "metadata": {},
   "outputs": [
    {
     "name": "stdout",
     "output_type": "stream",
     "text": [
      "<class 'pandas.core.frame.DataFrame'>\n",
      "RangeIndex: 14384 entries, 0 to 14383\n",
      "Data columns (total 10 columns):\n",
      " #   Column       Non-Null Count  Dtype  \n",
      "---  ------       --------------  -----  \n",
      " 0   Id           14384 non-null  int64  \n",
      " 1   Name         14384 non-null  object \n",
      " 2   Age          14384 non-null  int64  \n",
      " 3   Nationality  14384 non-null  object \n",
      " 4   Overall      14384 non-null  int64  \n",
      " 5   Potential    14384 non-null  int64  \n",
      " 6   Club         14173 non-null  object \n",
      " 7   Value (M)    14384 non-null  float64\n",
      " 8   Wage (M)     14384 non-null  float64\n",
      " 9   Position     14384 non-null  object \n",
      "dtypes: float64(2), int64(4), object(4)\n",
      "memory usage: 1.1+ MB\n"
     ]
    }
   ],
   "source": [
    "train.info()"
   ]
  },
  {
   "cell_type": "code",
   "execution_count": 7,
   "metadata": {},
   "outputs": [
    {
     "data": {
      "text/html": [
       "<div>\n",
       "<style scoped>\n",
       "    .dataframe tbody tr th:only-of-type {\n",
       "        vertical-align: middle;\n",
       "    }\n",
       "\n",
       "    .dataframe tbody tr th {\n",
       "        vertical-align: top;\n",
       "    }\n",
       "\n",
       "    .dataframe thead th {\n",
       "        text-align: right;\n",
       "    }\n",
       "</style>\n",
       "<table border=\"1\" class=\"dataframe\">\n",
       "  <thead>\n",
       "    <tr style=\"text-align: right;\">\n",
       "      <th></th>\n",
       "      <th>Id</th>\n",
       "      <th>Age</th>\n",
       "      <th>Overall</th>\n",
       "      <th>Potential</th>\n",
       "      <th>Value (M)</th>\n",
       "      <th>Wage (M)</th>\n",
       "    </tr>\n",
       "  </thead>\n",
       "  <tbody>\n",
       "    <tr>\n",
       "      <th>count</th>\n",
       "      <td>14384.000000</td>\n",
       "      <td>14384.000000</td>\n",
       "      <td>14384.000000</td>\n",
       "      <td>14384.000000</td>\n",
       "      <td>14384.000000</td>\n",
       "      <td>14384.000000</td>\n",
       "    </tr>\n",
       "    <tr>\n",
       "      <th>mean</th>\n",
       "      <td>8992.892728</td>\n",
       "      <td>25.148776</td>\n",
       "      <td>66.237695</td>\n",
       "      <td>71.181869</td>\n",
       "      <td>2.344967</td>\n",
       "      <td>0.011435</td>\n",
       "    </tr>\n",
       "    <tr>\n",
       "      <th>std</th>\n",
       "      <td>5183.996368</td>\n",
       "      <td>4.620911</td>\n",
       "      <td>6.954458</td>\n",
       "      <td>6.074111</td>\n",
       "      <td>5.105376</td>\n",
       "      <td>0.022614</td>\n",
       "    </tr>\n",
       "    <tr>\n",
       "      <th>min</th>\n",
       "      <td>0.000000</td>\n",
       "      <td>16.000000</td>\n",
       "      <td>46.000000</td>\n",
       "      <td>46.000000</td>\n",
       "      <td>0.000000</td>\n",
       "      <td>0.000000</td>\n",
       "    </tr>\n",
       "    <tr>\n",
       "      <th>25%</th>\n",
       "      <td>4480.750000</td>\n",
       "      <td>21.000000</td>\n",
       "      <td>62.000000</td>\n",
       "      <td>67.000000</td>\n",
       "      <td>0.300000</td>\n",
       "      <td>0.002000</td>\n",
       "    </tr>\n",
       "    <tr>\n",
       "      <th>50%</th>\n",
       "      <td>9001.500000</td>\n",
       "      <td>25.000000</td>\n",
       "      <td>66.000000</td>\n",
       "      <td>71.000000</td>\n",
       "      <td>0.675000</td>\n",
       "      <td>0.004000</td>\n",
       "    </tr>\n",
       "    <tr>\n",
       "      <th>75%</th>\n",
       "      <td>13470.250000</td>\n",
       "      <td>28.000000</td>\n",
       "      <td>71.000000</td>\n",
       "      <td>75.000000</td>\n",
       "      <td>2.100000</td>\n",
       "      <td>0.012000</td>\n",
       "    </tr>\n",
       "    <tr>\n",
       "      <th>max</th>\n",
       "      <td>17980.000000</td>\n",
       "      <td>47.000000</td>\n",
       "      <td>94.000000</td>\n",
       "      <td>94.000000</td>\n",
       "      <td>105.000000</td>\n",
       "      <td>0.565000</td>\n",
       "    </tr>\n",
       "  </tbody>\n",
       "</table>\n",
       "</div>"
      ],
      "text/plain": [
       "                 Id           Age       Overall     Potential     Value (M)  \\\n",
       "count  14384.000000  14384.000000  14384.000000  14384.000000  14384.000000   \n",
       "mean    8992.892728     25.148776     66.237695     71.181869      2.344967   \n",
       "std     5183.996368      4.620911      6.954458      6.074111      5.105376   \n",
       "min        0.000000     16.000000     46.000000     46.000000      0.000000   \n",
       "25%     4480.750000     21.000000     62.000000     67.000000      0.300000   \n",
       "50%     9001.500000     25.000000     66.000000     71.000000      0.675000   \n",
       "75%    13470.250000     28.000000     71.000000     75.000000      2.100000   \n",
       "max    17980.000000     47.000000     94.000000     94.000000    105.000000   \n",
       "\n",
       "           Wage (M)  \n",
       "count  14384.000000  \n",
       "mean       0.011435  \n",
       "std        0.022614  \n",
       "min        0.000000  \n",
       "25%        0.002000  \n",
       "50%        0.004000  \n",
       "75%        0.012000  \n",
       "max        0.565000  "
      ]
     },
     "execution_count": 7,
     "metadata": {},
     "output_type": "execute_result"
    }
   ],
   "source": [
    "train.describe()"
   ]
  },
  {
   "cell_type": "code",
   "execution_count": 8,
   "metadata": {},
   "outputs": [
    {
     "data": {
      "text/plain": [
       "Id               0\n",
       "Name             0\n",
       "Age              0\n",
       "Nationality      0\n",
       "Overall          0\n",
       "Potential        0\n",
       "Club           211\n",
       "Value (M)        0\n",
       "Wage (M)         0\n",
       "Position         0\n",
       "dtype: int64"
      ]
     },
     "execution_count": 8,
     "metadata": {},
     "output_type": "execute_result"
    }
   ],
   "source": [
    "train.isnull().sum()"
   ]
  },
  {
   "cell_type": "markdown",
   "metadata": {},
   "source": [
    "### Visualize the data\n",
    "\n",
    "- Check for the categorical & continuous features. \n",
    "- Check out the best plots for plotting between categorical target and continuous features and try making some inferences from these plots.\n",
    "- Check for the correlation between the features"
   ]
  },
  {
   "cell_type": "code",
   "execution_count": 9,
   "metadata": {},
   "outputs": [
    {
     "data": {
      "text/plain": [
       "Id               int64\n",
       "Name            object\n",
       "Age              int64\n",
       "Nationality     object\n",
       "Overall          int64\n",
       "Potential        int64\n",
       "Club            object\n",
       "Value (M)      float64\n",
       "Wage (M)       float64\n",
       "Position        object\n",
       "dtype: object"
      ]
     },
     "execution_count": 9,
     "metadata": {},
     "output_type": "execute_result"
    }
   ],
   "source": [
    "train.dtypes"
   ]
  },
  {
   "cell_type": "code",
   "execution_count": 36,
   "metadata": {},
   "outputs": [
    {
     "data": {
      "text/plain": [
       "<matplotlib.axes._subplots.AxesSubplot at 0x7f51e3368d60>"
      ]
     },
     "execution_count": 36,
     "metadata": {},
     "output_type": "execute_result"
    },
    {
     "data": {
      "image/png": "[encoded data removed]",
      "text/plain": [
       "<Figure size 720x432 with 1 Axes>"
      ]
     },
     "metadata": {
      "needs_background": "light"
     },
     "output_type": "display_data"
    }
   ],
   "source": [
    "top_10_player = train.groupby(['Name', 'Position','Nationality'])['Age'].median().nlargest(10)\n",
    "\n",
    "top_10_player.plot(kind = 'bar',title= 'top_10_player',figsize = (10,6))"
   ]
  },
  {
   "cell_type": "code",
   "execution_count": 12,
   "metadata": {},
   "outputs": [
    {
     "data": {
      "text/plain": [
       "<matplotlib.axes._subplots.AxesSubplot at 0x7f520d8f4d90>"
      ]
     },
     "execution_count": 12,
     "metadata": {},
     "output_type": "execute_result"
    },
    {
     "data": {
      "image/png": "[encoded data removed]",
      "text/plain": [
       "<Figure size 432x288 with 1 Axes>"
      ]
     },
     "metadata": {
      "needs_background": "light"
     },
     "output_type": "display_data"
    }
   ],
   "source": [
    "monthly_income = train.groupby('Club')['Wage (M)'].median().nlargest(10)\n",
    "\n",
    "monthly_income.plot(kind = 'bar',title = 'club monthly income ')"
   ]
  },
  {
   "cell_type": "code",
   "execution_count": 46,
   "metadata": {},
   "outputs": [
    {
     "name": "stdout",
     "output_type": "stream",
     "text": [
      "Age          25.148776\n",
      "Overall      66.237695\n",
      "Potential    71.181869\n",
      "dtype: float64\n"
     ]
    },
    {
     "data": {
      "text/plain": [
       "<matplotlib.axes._subplots.AxesSubplot at 0x7f51e2a4d670>"
      ]
     },
     "execution_count": 46,
     "metadata": {},
     "output_type": "execute_result"
    },
    {
     "data": {
      "image/png": "[encoded data removed]",
      "text/plain": [
       "<Figure size 432x288 with 1 Axes>"
      ]
     },
     "metadata": {
      "needs_background": "light"
     },
     "output_type": "display_data"
    }
   ],
   "source": [
    "player = pd.DataFrame(train,columns=['Age','Overall','Potential']).mean()\n",
    "print(player)\n",
    "player.head(10).plot(kind='bar')"
   ]
  },
  {
   "cell_type": "code",
   "execution_count": 37,
   "metadata": {},
   "outputs": [
    {
     "data": {
      "text/plain": [
       "<matplotlib.axes._subplots.AxesSubplot at 0x7f51e31a0970>"
      ]
     },
     "execution_count": 37,
     "metadata": {},
     "output_type": "execute_result"
    },
    {
     "data": {
      "image/png": "[encoded data removed]",
      "text/plain": [
       "<Figure size 432x288 with 1 Axes>"
      ]
     },
     "metadata": {
      "needs_background": "light"
     },
     "output_type": "display_data"
    }
   ],
   "source": [
    "sns.scatterplot(x = 'Overall',y='Potential',data=train)"
   ]
  },
  {
   "cell_type": "code",
   "execution_count": 47,
   "metadata": {},
   "outputs": [
    {
     "data": {
      "text/html": [
       "<div>\n",
       "<style scoped>\n",
       "    .dataframe tbody tr th:only-of-type {\n",
       "        vertical-align: middle;\n",
       "    }\n",
       "\n",
       "    .dataframe tbody tr th {\n",
       "        vertical-align: top;\n",
       "    }\n",
       "\n",
       "    .dataframe thead th {\n",
       "        text-align: right;\n",
       "    }\n",
       "</style>\n",
       "<table border=\"1\" class=\"dataframe\">\n",
       "  <thead>\n",
       "    <tr style=\"text-align: right;\">\n",
       "      <th></th>\n",
       "      <th>Id</th>\n",
       "      <th>Name</th>\n",
       "      <th>Age</th>\n",
       "      <th>Nationality</th>\n",
       "      <th>Overall</th>\n",
       "      <th>Potential</th>\n",
       "      <th>Club</th>\n",
       "      <th>Value (M)</th>\n",
       "      <th>Wage (M)</th>\n",
       "      <th>Position</th>\n",
       "    </tr>\n",
       "  </thead>\n",
       "  <tbody>\n",
       "    <tr>\n",
       "      <th>0</th>\n",
       "      <td>17221</td>\n",
       "      <td>F. Burdenski</td>\n",
       "      <td>25</td>\n",
       "      <td>Germany</td>\n",
       "      <td>54</td>\n",
       "      <td>58</td>\n",
       "      <td>Korona Kielce</td>\n",
       "      <td>0.07</td>\n",
       "      <td>0.001</td>\n",
       "      <td>CDM</td>\n",
       "    </tr>\n",
       "    <tr>\n",
       "      <th>1</th>\n",
       "      <td>11353</td>\n",
       "      <td>A. Deiola</td>\n",
       "      <td>21</td>\n",
       "      <td>Italy</td>\n",
       "      <td>64</td>\n",
       "      <td>73</td>\n",
       "      <td>Cagliari</td>\n",
       "      <td>0.70</td>\n",
       "      <td>0.010</td>\n",
       "      <td>CM</td>\n",
       "    </tr>\n",
       "    <tr>\n",
       "      <th>2</th>\n",
       "      <td>3402</td>\n",
       "      <td>T. Castagne</td>\n",
       "      <td>21</td>\n",
       "      <td>Belgium</td>\n",
       "      <td>72</td>\n",
       "      <td>79</td>\n",
       "      <td>Atalanta</td>\n",
       "      <td>3.70</td>\n",
       "      <td>0.013</td>\n",
       "      <td>RB</td>\n",
       "    </tr>\n",
       "    <tr>\n",
       "      <th>3</th>\n",
       "      <td>16071</td>\n",
       "      <td>D. Gorman</td>\n",
       "      <td>21</td>\n",
       "      <td>Northern Ireland</td>\n",
       "      <td>57</td>\n",
       "      <td>66</td>\n",
       "      <td>Stevenage</td>\n",
       "      <td>0.16</td>\n",
       "      <td>0.002</td>\n",
       "      <td>CM</td>\n",
       "    </tr>\n",
       "    <tr>\n",
       "      <th>4</th>\n",
       "      <td>12380</td>\n",
       "      <td>N. Molina Lucero</td>\n",
       "      <td>19</td>\n",
       "      <td>Argentina</td>\n",
       "      <td>63</td>\n",
       "      <td>75</td>\n",
       "      <td>Boca Juniors</td>\n",
       "      <td>0.55</td>\n",
       "      <td>0.002</td>\n",
       "      <td>LB</td>\n",
       "    </tr>\n",
       "  </tbody>\n",
       "</table>\n",
       "</div>"
      ],
      "text/plain": [
       "      Id              Name  Age       Nationality  Overall  Potential  \\\n",
       "0  17221      F. Burdenski   25           Germany       54         58   \n",
       "1  11353         A. Deiola   21             Italy       64         73   \n",
       "2   3402       T. Castagne   21           Belgium       72         79   \n",
       "3  16071         D. Gorman   21  Northern Ireland       57         66   \n",
       "4  12380  N. Molina Lucero   19         Argentina       63         75   \n",
       "\n",
       "            Club  Value (M)  Wage (M) Position  \n",
       "0  Korona Kielce       0.07     0.001      CDM  \n",
       "1       Cagliari       0.70     0.010       CM  \n",
       "2       Atalanta       3.70     0.013       RB  \n",
       "3      Stevenage       0.16     0.002       CM  \n",
       "4   Boca Juniors       0.55     0.002       LB  "
      ]
     },
     "execution_count": 47,
     "metadata": {},
     "output_type": "execute_result"
    }
   ],
   "source": []
  },
  {
   "cell_type": "code",
   "execution_count": 55,
   "metadata": {},
   "outputs": [
    {
     "name": "stdout",
     "output_type": "stream",
     "text": [
      "Nationality  Club             \n",
      "Uruguay      FC Barcelona         97.00\n",
      "Portugal     Real Madrid CF       95.50\n",
      "Germany      Real Madrid CF       79.00\n",
      "Argentina    Juventus             78.00\n",
      "Wales        Real Madrid CF       69.50\n",
      "Chile        Arsenal              67.50\n",
      "Argentina    Manchester City      66.50\n",
      "Gabon        Borussia Dortmund    61.00\n",
      "Argentina    FC Barcelona         57.75\n",
      "Slovenia     Atlético Madrid      57.00\n",
      "Name: Value (M), dtype: float64\n"
     ]
    },
    {
     "data": {
      "text/plain": [
       "<matplotlib.axes._subplots.AxesSubplot at 0x7f51da9aa490>"
      ]
     },
     "execution_count": 55,
     "metadata": {},
     "output_type": "execute_result"
    },
    {
     "data": {
      "image/png": "[encoded data removed]",
      "text/plain": [
       "<Figure size 720x432 with 1 Axes>"
      ]
     },
     "metadata": {
      "needs_background": "light"
     },
     "output_type": "display_data"
    }
   ],
   "source": [
    "best_club = train.groupby(['Nationality','Club'])['Value (M)'].median().nlargest(10)\n",
    "print(best_club)\n",
    "best_club.plot(kind='bar',title='best club in world',figsize = (10,6))"
   ]
  },
  {
   "cell_type": "code",
   "execution_count": 56,
   "metadata": {},
   "outputs": [
    {
     "data": {
      "text/plain": [
       "<matplotlib.axes._subplots.AxesSubplot at 0x7f51dace19a0>"
      ]
     },
     "execution_count": 56,
     "metadata": {},
     "output_type": "execute_result"
    },
    {
     "data": {
      "image/png": "[encoded data removed]",
      "text/plain": [
       "<Figure size 432x288 with 1 Axes>"
      ]
     },
     "metadata": {
      "needs_background": "light"
     },
     "output_type": "display_data"
    }
   ],
   "source": [
    "train.boxplot(column = 'Value (M)')"
   ]
  },
  {
   "cell_type": "code",
   "execution_count": 57,
   "metadata": {},
   "outputs": [
    {
     "name": "stdout",
     "output_type": "stream",
     "text": [
      "Id           8989.50\n",
      "Age             7.00\n",
      "Overall         9.00\n",
      "Potential       8.00\n",
      "Value (M)       1.80\n",
      "Wage (M)        0.01\n",
      "dtype: float64\n"
     ]
    }
   ],
   "source": [
    "Q1 = train.quantile(0.25)\n",
    "Q3 = train.quantile(0.75)\n",
    "IQR = Q3 - Q1\n",
    "print(IQR)"
   ]
  },
  {
   "cell_type": "code",
   "execution_count": 58,
   "metadata": {},
   "outputs": [],
   "source": [
    "def remove_outlier(col):\n",
    "    sorted(col)\n",
    "    Q1,Q3=col.quantile([0.25,0.75])\n",
    "    IQR = Q3-Q1\n",
    "    lower_range = Q1-(1.5*IQR)\n",
    "    upper_range = Q3+(1.5*IQR)\n",
    "    return lower_range,upper_range"
   ]
  },
  {
   "cell_type": "code",
   "execution_count": 59,
   "metadata": {},
   "outputs": [],
   "source": [
    "lowprice,uppprice = remove_outlier(train['Value (M)'])\n",
    "train['Value (M)']=np.where(train['Value (M)']>uppprice,uppprice,train['Value (M)'])\n",
    "train['Value (M)']=np.where(train['Value (M)']<lowprice,lowprice,train['Value (M)'])"
   ]
  },
  {
   "cell_type": "code",
   "execution_count": 60,
   "metadata": {},
   "outputs": [
    {
     "data": {
      "image/png": "[encoded data removed]",
      "text/plain": [
       "<Figure size 1152x360 with 1 Axes>"
      ]
     },
     "metadata": {
      "needs_background": "light"
     },
     "output_type": "display_data"
    }
   ],
   "source": [
    "train['Value (M)'].plot.box(figsize=(16,5))\n",
    "plt.show()"
   ]
  },
  {
   "cell_type": "code",
   "execution_count": 61,
   "metadata": {},
   "outputs": [
    {
     "data": {
      "text/plain": [
       "1.2110520267296652"
      ]
     },
     "execution_count": 61,
     "metadata": {},
     "output_type": "execute_result"
    }
   ],
   "source": [
    "train['Value (M)'].skew()"
   ]
  },
  {
   "cell_type": "markdown",
   "metadata": {},
   "source": [
    "### Model building\n",
    "\n",
    "- Separate the features and target and then split the train data into train and validation set.\n",
    "- Now let's come to the actual task, using linear regression, predict the `Value (M)`. \n",
    "- Try improving upon the `r2_score` (R-Square) using different parameters that give the best score. You can use higher degree [Polynomial Features of sklearn](https://scikit-learn.org/stable/modules/generated/sklearn.preprocessing.PolynomialFeatures.html) to improve the model prediction. \n",
    "\n"
   ]
  },
  {
   "cell_type": "code",
   "execution_count": 64,
   "metadata": {},
   "outputs": [
    {
     "data": {
      "text/html": [
       "<div>\n",
       "<style scoped>\n",
       "    .dataframe tbody tr th:only-of-type {\n",
       "        vertical-align: middle;\n",
       "    }\n",
       "\n",
       "    .dataframe tbody tr th {\n",
       "        vertical-align: top;\n",
       "    }\n",
       "\n",
       "    .dataframe thead th {\n",
       "        text-align: right;\n",
       "    }\n",
       "</style>\n",
       "<table border=\"1\" class=\"dataframe\">\n",
       "  <thead>\n",
       "    <tr style=\"text-align: right;\">\n",
       "      <th></th>\n",
       "      <th>Id</th>\n",
       "      <th>Name</th>\n",
       "      <th>Age</th>\n",
       "      <th>Nationality</th>\n",
       "      <th>Overall</th>\n",
       "      <th>Potential</th>\n",
       "      <th>Club</th>\n",
       "      <th>Wage (M)</th>\n",
       "      <th>Position</th>\n",
       "    </tr>\n",
       "  </thead>\n",
       "  <tbody>\n",
       "    <tr>\n",
       "      <th>0</th>\n",
       "      <td>280</td>\n",
       "      <td>C. Vela</td>\n",
       "      <td>28</td>\n",
       "      <td>Mexico</td>\n",
       "      <td>82</td>\n",
       "      <td>82</td>\n",
       "      <td>Real Sociedad</td>\n",
       "      <td>0.046</td>\n",
       "      <td>ST</td>\n",
       "    </tr>\n",
       "    <tr>\n",
       "      <th>1</th>\n",
       "      <td>569</td>\n",
       "      <td>J. Stones</td>\n",
       "      <td>23</td>\n",
       "      <td>England</td>\n",
       "      <td>79</td>\n",
       "      <td>85</td>\n",
       "      <td>Manchester City</td>\n",
       "      <td>0.105</td>\n",
       "      <td>CB</td>\n",
       "    </tr>\n",
       "    <tr>\n",
       "      <th>2</th>\n",
       "      <td>8731</td>\n",
       "      <td>V. Vermeij</td>\n",
       "      <td>22</td>\n",
       "      <td>Netherlands</td>\n",
       "      <td>67</td>\n",
       "      <td>74</td>\n",
       "      <td>Heracles Almelo</td>\n",
       "      <td>0.007</td>\n",
       "      <td>ST</td>\n",
       "    </tr>\n",
       "    <tr>\n",
       "      <th>3</th>\n",
       "      <td>10085</td>\n",
       "      <td>G. Omae</td>\n",
       "      <td>27</td>\n",
       "      <td>Japan</td>\n",
       "      <td>65</td>\n",
       "      <td>65</td>\n",
       "      <td>Omiya Ardija</td>\n",
       "      <td>0.002</td>\n",
       "      <td>CAM</td>\n",
       "    </tr>\n",
       "    <tr>\n",
       "      <th>4</th>\n",
       "      <td>9831</td>\n",
       "      <td>N. Miatke</td>\n",
       "      <td>27</td>\n",
       "      <td>Germany</td>\n",
       "      <td>66</td>\n",
       "      <td>67</td>\n",
       "      <td>FSV Zwickau</td>\n",
       "      <td>0.001</td>\n",
       "      <td>LM</td>\n",
       "    </tr>\n",
       "  </tbody>\n",
       "</table>\n",
       "</div>"
      ],
      "text/plain": [
       "      Id        Name  Age  Nationality  Overall  Potential             Club  \\\n",
       "0    280     C. Vela   28       Mexico       82         82    Real Sociedad   \n",
       "1    569   J. Stones   23      England       79         85  Manchester City   \n",
       "2   8731  V. Vermeij   22  Netherlands       67         74  Heracles Almelo   \n",
       "3  10085     G. Omae   27        Japan       65         65     Omiya Ardija   \n",
       "4   9831   N. Miatke   27      Germany       66         67      FSV Zwickau   \n",
       "\n",
       "   Wage (M) Position  \n",
       "0     0.046       ST  \n",
       "1     0.105       CB  \n",
       "2     0.007       ST  \n",
       "3     0.002      CAM  \n",
       "4     0.001       LM  "
      ]
     },
     "execution_count": 64,
     "metadata": {},
     "output_type": "execute_result"
    }
   ],
   "source": [
    "test.head()"
   ]
  },
  {
   "cell_type": "code",
   "execution_count": 63,
   "metadata": {},
   "outputs": [],
   "source": [
    "train.drop(['Id','Name','Nationality','Club','Position'],axis=1,inplace=True)"
   ]
  },
  {
   "cell_type": "code",
   "execution_count": 65,
   "metadata": {},
   "outputs": [],
   "source": [
    "test.drop(['Id','Name','Nationality','Club','Position'],axis=1,inplace=True)"
   ]
  },
  {
   "cell_type": "code",
   "execution_count": 66,
   "metadata": {},
   "outputs": [
    {
     "data": {
      "text/html": [
       "<div>\n",
       "<style scoped>\n",
       "    .dataframe tbody tr th:only-of-type {\n",
       "        vertical-align: middle;\n",
       "    }\n",
       "\n",
       "    .dataframe tbody tr th {\n",
       "        vertical-align: top;\n",
       "    }\n",
       "\n",
       "    .dataframe thead th {\n",
       "        text-align: right;\n",
       "    }\n",
       "</style>\n",
       "<table border=\"1\" class=\"dataframe\">\n",
       "  <thead>\n",
       "    <tr style=\"text-align: right;\">\n",
       "      <th></th>\n",
       "      <th>Age</th>\n",
       "      <th>Overall</th>\n",
       "      <th>Potential</th>\n",
       "      <th>Value (M)</th>\n",
       "      <th>Wage (M)</th>\n",
       "    </tr>\n",
       "  </thead>\n",
       "  <tbody>\n",
       "    <tr>\n",
       "      <th>0</th>\n",
       "      <td>25</td>\n",
       "      <td>54</td>\n",
       "      <td>58</td>\n",
       "      <td>0.07</td>\n",
       "      <td>0.001</td>\n",
       "    </tr>\n",
       "    <tr>\n",
       "      <th>1</th>\n",
       "      <td>21</td>\n",
       "      <td>64</td>\n",
       "      <td>73</td>\n",
       "      <td>0.70</td>\n",
       "      <td>0.010</td>\n",
       "    </tr>\n",
       "    <tr>\n",
       "      <th>2</th>\n",
       "      <td>21</td>\n",
       "      <td>72</td>\n",
       "      <td>79</td>\n",
       "      <td>3.70</td>\n",
       "      <td>0.013</td>\n",
       "    </tr>\n",
       "    <tr>\n",
       "      <th>3</th>\n",
       "      <td>21</td>\n",
       "      <td>57</td>\n",
       "      <td>66</td>\n",
       "      <td>0.16</td>\n",
       "      <td>0.002</td>\n",
       "    </tr>\n",
       "    <tr>\n",
       "      <th>4</th>\n",
       "      <td>19</td>\n",
       "      <td>63</td>\n",
       "      <td>75</td>\n",
       "      <td>0.55</td>\n",
       "      <td>0.002</td>\n",
       "    </tr>\n",
       "  </tbody>\n",
       "</table>\n",
       "</div>"
      ],
      "text/plain": [
       "   Age  Overall  Potential  Value (M)  Wage (M)\n",
       "0   25       54         58       0.07     0.001\n",
       "1   21       64         73       0.70     0.010\n",
       "2   21       72         79       3.70     0.013\n",
       "3   21       57         66       0.16     0.002\n",
       "4   19       63         75       0.55     0.002"
      ]
     },
     "execution_count": 66,
     "metadata": {},
     "output_type": "execute_result"
    }
   ],
   "source": [
    "train.head()"
   ]
  },
  {
   "cell_type": "code",
   "execution_count": 70,
   "metadata": {},
   "outputs": [
    {
     "data": {
      "text/html": [
       "<div>\n",
       "<style scoped>\n",
       "    .dataframe tbody tr th:only-of-type {\n",
       "        vertical-align: middle;\n",
       "    }\n",
       "\n",
       "    .dataframe tbody tr th {\n",
       "        vertical-align: top;\n",
       "    }\n",
       "\n",
       "    .dataframe thead th {\n",
       "        text-align: right;\n",
       "    }\n",
       "</style>\n",
       "<table border=\"1\" class=\"dataframe\">\n",
       "  <thead>\n",
       "    <tr style=\"text-align: right;\">\n",
       "      <th></th>\n",
       "      <th>Age</th>\n",
       "      <th>Overall</th>\n",
       "      <th>Potential</th>\n",
       "      <th>Value (M)</th>\n",
       "      <th>Wage (M)</th>\n",
       "    </tr>\n",
       "  </thead>\n",
       "  <tbody>\n",
       "    <tr>\n",
       "      <th>0</th>\n",
       "      <td>25</td>\n",
       "      <td>54</td>\n",
       "      <td>58</td>\n",
       "      <td>0.07</td>\n",
       "      <td>0.001</td>\n",
       "    </tr>\n",
       "    <tr>\n",
       "      <th>1</th>\n",
       "      <td>21</td>\n",
       "      <td>64</td>\n",
       "      <td>73</td>\n",
       "      <td>0.70</td>\n",
       "      <td>0.010</td>\n",
       "    </tr>\n",
       "    <tr>\n",
       "      <th>2</th>\n",
       "      <td>21</td>\n",
       "      <td>72</td>\n",
       "      <td>79</td>\n",
       "      <td>3.70</td>\n",
       "      <td>0.013</td>\n",
       "    </tr>\n",
       "    <tr>\n",
       "      <th>3</th>\n",
       "      <td>21</td>\n",
       "      <td>57</td>\n",
       "      <td>66</td>\n",
       "      <td>0.16</td>\n",
       "      <td>0.002</td>\n",
       "    </tr>\n",
       "    <tr>\n",
       "      <th>4</th>\n",
       "      <td>19</td>\n",
       "      <td>63</td>\n",
       "      <td>75</td>\n",
       "      <td>0.55</td>\n",
       "      <td>0.002</td>\n",
       "    </tr>\n",
       "  </tbody>\n",
       "</table>\n",
       "</div>"
      ],
      "text/plain": [
       "   Age  Overall  Potential  Value (M)  Wage (M)\n",
       "0   25       54         58       0.07     0.001\n",
       "1   21       64         73       0.70     0.010\n",
       "2   21       72         79       3.70     0.013\n",
       "3   21       57         66       0.16     0.002\n",
       "4   19       63         75       0.55     0.002"
      ]
     },
     "execution_count": 70,
     "metadata": {},
     "output_type": "execute_result"
    }
   ],
   "source": [
    "data = pd.get_dummies(train)\n",
    "data.head()"
   ]
  },
  {
   "cell_type": "code",
   "execution_count": 71,
   "metadata": {},
   "outputs": [
    {
     "data": {
      "text/html": [
       "<div>\n",
       "<style scoped>\n",
       "    .dataframe tbody tr th:only-of-type {\n",
       "        vertical-align: middle;\n",
       "    }\n",
       "\n",
       "    .dataframe tbody tr th {\n",
       "        vertical-align: top;\n",
       "    }\n",
       "\n",
       "    .dataframe thead th {\n",
       "        text-align: right;\n",
       "    }\n",
       "</style>\n",
       "<table border=\"1\" class=\"dataframe\">\n",
       "  <thead>\n",
       "    <tr style=\"text-align: right;\">\n",
       "      <th></th>\n",
       "      <th>Age</th>\n",
       "      <th>Overall</th>\n",
       "      <th>Potential</th>\n",
       "      <th>Wage (M)</th>\n",
       "    </tr>\n",
       "  </thead>\n",
       "  <tbody>\n",
       "    <tr>\n",
       "      <th>0</th>\n",
       "      <td>28</td>\n",
       "      <td>82</td>\n",
       "      <td>82</td>\n",
       "      <td>0.046</td>\n",
       "    </tr>\n",
       "    <tr>\n",
       "      <th>1</th>\n",
       "      <td>23</td>\n",
       "      <td>79</td>\n",
       "      <td>85</td>\n",
       "      <td>0.105</td>\n",
       "    </tr>\n",
       "    <tr>\n",
       "      <th>2</th>\n",
       "      <td>22</td>\n",
       "      <td>67</td>\n",
       "      <td>74</td>\n",
       "      <td>0.007</td>\n",
       "    </tr>\n",
       "    <tr>\n",
       "      <th>3</th>\n",
       "      <td>27</td>\n",
       "      <td>65</td>\n",
       "      <td>65</td>\n",
       "      <td>0.002</td>\n",
       "    </tr>\n",
       "    <tr>\n",
       "      <th>4</th>\n",
       "      <td>27</td>\n",
       "      <td>66</td>\n",
       "      <td>67</td>\n",
       "      <td>0.001</td>\n",
       "    </tr>\n",
       "  </tbody>\n",
       "</table>\n",
       "</div>"
      ],
      "text/plain": [
       "   Age  Overall  Potential  Wage (M)\n",
       "0   28       82         82     0.046\n",
       "1   23       79         85     0.105\n",
       "2   22       67         74     0.007\n",
       "3   27       65         65     0.002\n",
       "4   27       66         67     0.001"
      ]
     },
     "execution_count": 71,
     "metadata": {},
     "output_type": "execute_result"
    }
   ],
   "source": [
    "data_test= pd.get_dummies(test)\n",
    "data_test.head()"
   ]
  },
  {
   "cell_type": "code",
   "execution_count": 72,
   "metadata": {},
   "outputs": [
    {
     "data": {
      "text/plain": [
       "0.5980522063981402"
      ]
     },
     "execution_count": 72,
     "metadata": {},
     "output_type": "execute_result"
    }
   ],
   "source": [
    "data['Wage (M)'].corr(data['Value (M)'])"
   ]
  },
  {
   "cell_type": "code",
   "execution_count": 87,
   "metadata": {},
   "outputs": [
    {
     "data": {
      "text/plain": [
       "<matplotlib.axes._subplots.AxesSubplot at 0x7f51ca5a1e80>"
      ]
     },
     "execution_count": 87,
     "metadata": {},
     "output_type": "execute_result"
    },
    {
     "data": {
      "image/png": "[encoded data removed]",
      "text/plain": [
       "<Figure size 432x288 with 2 Axes>"
      ]
     },
     "metadata": {
      "needs_background": "light"
     },
     "output_type": "display_data"
    }
   ],
   "source": [
    "sns.heatmap(train.corr())"
   ]
  },
  {
   "cell_type": "code",
   "execution_count": 73,
   "metadata": {},
   "outputs": [],
   "source": [
    "X = data.copy()\n",
    "y = data['Value (M)']"
   ]
  },
  {
   "cell_type": "code",
   "execution_count": 74,
   "metadata": {},
   "outputs": [],
   "source": [
    "from sklearn.model_selection import train_test_split\n",
    "X_train, X_val, y_train, y_val = train_test_split(X, y,train_size =0.75, random_state=0)\n"
   ]
  },
  {
   "cell_type": "code",
   "execution_count": 75,
   "metadata": {},
   "outputs": [
    {
     "data": {
      "text/plain": [
       "((10788, 5), (3596, 5), (10788,), (3596,))"
      ]
     },
     "execution_count": 75,
     "metadata": {},
     "output_type": "execute_result"
    }
   ],
   "source": [
    "X_train.shape , X_val.shape ,y_train.shape , y_val.shape"
   ]
  },
  {
   "cell_type": "code",
   "execution_count": 81,
   "metadata": {},
   "outputs": [],
   "source": [
    "from sklearn.linear_model import LinearRegression,Lasso\n",
    "from sklearn.metrics import mean_squared_error,accuracy_score"
   ]
  },
  {
   "cell_type": "code",
   "execution_count": 82,
   "metadata": {},
   "outputs": [
    {
     "name": "stdout",
     "output_type": "stream",
     "text": [
      "1.8408068985276193e-15\n"
     ]
    }
   ],
   "source": [
    "# Initializing the Linear regression model\n",
    "lr = LinearRegression()\n",
    "# Fitting the data\n",
    "lr.fit(X,y)\n",
    "# Getting the predictions on the test data\n",
    "y_pred = lr.predict(X)\n",
    "# Finding the RMSE\n",
    "rmse_lr = mean_squared_error(y,y_pred) ** 0.5\n",
    "\n",
    "print(rmse_lr)"
   ]
  },
  {
   "cell_type": "code",
   "execution_count": 83,
   "metadata": {},
   "outputs": [
    {
     "data": {
      "text/plain": [
       "Text(0, 0.5, 'y_pred')"
      ]
     },
     "execution_count": 83,
     "metadata": {},
     "output_type": "execute_result"
    },
    {
     "data": {
      "image/png": "[encoded data removed]",
      "text/plain": [
       "<Figure size 432x288 with 1 Axes>"
      ]
     },
     "metadata": {
      "needs_background": "light"
     },
     "output_type": "display_data"
    }
   ],
   "source": [
    "fig = plt.figure()\n",
    "plt.scatter(y, y_pred)\n",
    "fig.suptitle('y vs y_pred', fontsize = 20)              # Plot heading \n",
    "plt.xlabel('y', fontsize = 18)                          # X-label\n",
    "plt.ylabel('y_pred', fontsize = 16)"
   ]
  },
  {
   "cell_type": "code",
   "execution_count": 84,
   "metadata": {},
   "outputs": [
    {
     "name": "stdout",
     "output_type": "stream",
     "text": [
      "0.0026984271828447513\n"
     ]
    }
   ],
   "source": [
    "from sklearn.ensemble import GradientBoostingRegressor\n",
    "\n",
    "gbr = GradientBoostingRegressor(random_state=42)\n",
    "\n",
    "gbr.fit(X,y)\n",
    "\n",
    "y_pred_gbr = gbr.predict(X)\n",
    "\n",
    "rmse_gbr = mean_squared_error(y,y_pred_gbr) ** 0.5\n",
    "\n",
    "print(rmse_gbr)"
   ]
  },
  {
   "cell_type": "code",
   "execution_count": null,
   "metadata": {},
   "outputs": [],
   "source": []
  },
  {
   "cell_type": "markdown",
   "metadata": {},
   "source": [
    "### Prediction on the test data and creating the sample submission file.\n",
    "\n",
    "- Load the test data and store the `Id` column in a separate variable.\n",
    "- Perform the same operations on the test data that you have performed on the train data.\n",
    "- Create the submission file as a `csv` file consisting of the `Id` column from the test data and your prediction as the second column."
   ]
  },
  {
   "cell_type": "code",
   "execution_count": 100,
   "metadata": {},
   "outputs": [
    {
     "data": {
      "text/plain": [
       "(3597, 2)"
      ]
     },
     "execution_count": 100,
     "metadata": {},
     "output_type": "execute_result"
    }
   ],
   "source": []
  },
  {
   "cell_type": "code",
   "execution_count": null,
   "metadata": {},
   "outputs": [],
   "source": []
  }
 ],
 "metadata": {
  "kernelspec": {
   "display_name": "Python 3",
   "language": "python",
   "name": "python3"
  },
  "language_info": {
   "codemirror_mode": {
    "name": "ipython",
    "version": 3
   },
   "file_extension": ".py",
   "mimetype": "text/x-python",
   "name": "python",
   "nbconvert_exporter": "python",
   "pygments_lexer": "ipython3",
   "version": "3.8.3"
  }
 },
 "nbformat": 4,
 "nbformat_minor": 2
}
